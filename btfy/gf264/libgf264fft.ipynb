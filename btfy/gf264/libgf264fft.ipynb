{
 "cells": [
  {
   "cell_type": "code",
   "execution_count": 2,
   "metadata": {},
   "outputs": [
    {
     "data": {
      "text/plain": [
       "b'S\\xa4\\xe5W\\x8f\\xe7\\x90\\xd8'"
      ]
     },
     "execution_count": 2,
     "metadata": {},
     "output_type": "execute_result"
    }
   ],
   "source": [
    "#!/usr/bin/env python3\n",
    "\n",
    "\n",
    "import random\n",
    "\n",
    "def _rand_bytes(l) :\n",
    "  return bytes( [random.randrange(256) for i in range(l)] )\n",
    "\n",
    "#### test #####\n",
    "\n",
    "_rand_bytes(8)"
   ]
  },
  {
   "cell_type": "code",
   "execution_count": 1,
   "metadata": {},
   "outputs": [],
   "source": [
    "import clib_wrapper as cl\n"
   ]
  },
  {
   "cell_type": "code",
   "execution_count": 22,
   "metadata": {},
   "outputs": [
    {
     "name": "stdout",
     "output_type": "stream",
     "text": [
      "a [0, 1, 2, 3, 4, 5, 6, 7, 8, 9, 10, 11, 12, 13, 14, 15, 16, 17, 18, 19, 20, 21, 22, 23, 24, 25, 26, 27, 28, 29, 30, 31]\n",
      "si [0, 0, 0, 0, 0, 0, 0, 0, 1, 0, 0, 0, 0, 0, 0, 0, 0, 0, 0, 0, 0, 0, 0, 0, 0, 0, 0, 0, 0, 0, 0, 0]\n",
      "a/ss [0, 1, 2, 3, 4, 5, 6, 7, 24, 24, 24, 24, 24, 24, 24, 24, 16, 17, 18, 19, 20, 21, 22, 23, 24, 25, 26, 27, 28, 29, 30, 31]\n",
      "a/ss [24, 24, 24, 24, 24, 24, 24, 24, 16, 17, 18, 19, 20, 21, 22, 23, 24, 25, 26, 27, 28, 29, 30, 31, 0, 0, 0, 0, 0, 0, 0, 0]\n",
      "a/ss x ss [0, 0, 0, 0, 0, 0, 0, 0, 8, 9, 10, 11, 12, 13, 14, 15, 16, 17, 18, 19, 20, 21, 22, 23, 24, 25, 26, 27, 28, 29, 30, 31]\n",
      "a/ss x ss [0, 1, 2, 3, 4, 5, 6, 7, 8, 9, 10, 11, 12, 13, 14, 15, 16, 17, 18, 19, 20, 21, 22, 23, 24, 25, 26, 27, 28, 29, 30, 31]\n",
      "c == a True\n"
     ]
    }
   ],
   "source": [
    "###### poly div test ################\n",
    "\n",
    "l = 32\n",
    "#a =  [0] + [ random.randrange(65536) for i in range(7) ]\n",
    "a = [ i for i in range(l)]\n",
    "si = 3\n",
    "ss = [ 1 if i == (1<<si) else 0 for i in range(l)]\n",
    "print( \"a\" , a )\n",
    "print( \"si\" , ss )\n",
    "\n",
    "\n",
    "a_div_s0 = cl.polydiv( a , si )\n",
    "print( \"a/ss\" , a_div_s0 )\n",
    "a2 = a_div_s0[(1<<si):] + [0]*(1<<si)\n",
    "print( \"a/ss\" , a2 )\n",
    "\n",
    "v_a = cl.btfy( a2 , 0 )\n",
    "v_b = cl.btfy( ss , 0 )\n",
    "v_c = [ cl.gf264_mul( *e ) for e in zip(v_a,v_b) ]\n",
    "c = cl.ibtfy( v_c , 0 )\n",
    "\n",
    "print( \"a/ss x ss\" , c )\n",
    "c[:(1<<si)] = a[:(1<<si)] \n",
    "print( \"a/ss x ss\" , c )\n",
    "\n",
    "print( \"c == a\" , c==a )\n",
    "\n"
   ]
  },
  {
   "cell_type": "code",
   "execution_count": null,
   "metadata": {},
   "outputs": [],
   "source": []
  }
 ],
 "metadata": {
  "kernelspec": {
   "display_name": "venv",
   "language": "python",
   "name": "python3"
  },
  "language_info": {
   "codemirror_mode": {
    "name": "ipython",
    "version": 3
   },
   "file_extension": ".py",
   "mimetype": "text/x-python",
   "name": "python",
   "nbconvert_exporter": "python",
   "pygments_lexer": "ipython3",
   "version": "3.10.6"
  },
  "orig_nbformat": 4
 },
 "nbformat": 4,
 "nbformat_minor": 2
}
